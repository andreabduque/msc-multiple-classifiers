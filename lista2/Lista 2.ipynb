{
 "cells": [
  {
   "cell_type": "code",
   "execution_count": 55,
   "metadata": {},
   "outputs": [],
   "source": [
    "from arff2pandas import a2p\n",
    "import pandas as pd\n",
    "import numpy as np\n",
    "\n",
    "from sklearn.model_selection import StratifiedKFold\n",
    "from sklearn.linear_model import Perceptron\n",
    "from sklearn.ensemble import BaggingClassifier\n",
    "\n",
    "def get_data(file_path):\n",
    "    with open(file_path) as f:\n",
    "        df = a2p.load(f)\n",
    "        df = df.interpolate()\n",
    "        input_features = df.drop([\"defects@{false,true}\"], axis=1)\n",
    "        output_class = np.where(df[\"defects@{false,true}\"] == 'true', 1, 0)\n",
    "        return np.array(input_features), np.array(output_class)\n",
    "\n",
    "    return\n",
    "\n",
    "X, y = get_data('jm1.arff')\n",
    "skf = StratifiedKFold(n_splits=10, random_state=43, shuffle=True)\n",
    "for train_index, test_index in skf.split(X, y):\n",
    "    X_train, X_test = X[train_index], X[test_index]\n",
    "    y_train, y_test = y[train_index], y[test_index]\n",
    "\n",
    "    es = BaggingClassifier(base_estimator= Perceptron(max_iter=1000), n_estimators=100, max_samples=1.0, max_features=1.0, bootstrap=True,bootstrap_features=False, n_jobs=4)\n",
    "\n",
    "    model = es.fit(X_train, y_train)\n",
    "    break\n"
   ]
  },
  {
   "cell_type": "code",
   "execution_count": 27,
   "metadata": {},
   "outputs": [
    {
     "data": {
      "text/plain": [
       "1.0"
      ]
     },
     "execution_count": 27,
     "metadata": {},
     "output_type": "execute_result"
    }
   ],
   "source": [
    "from sklearn.metrics import cohen_kappa_score\n"
   ]
  },
  {
   "cell_type": "code",
   "execution_count": 57,
   "metadata": {},
   "outputs": [
    {
     "name": "stderr",
     "output_type": "stream",
     "text": [
      "/home/andrea/Workspace/mlproject/lib/python3.6/site-packages/sklearn/metrics/classification.py:370: RuntimeWarning: invalid value encountered in true_divide\n",
      "  k = np.sum(w_mat * confusion) / np.sum(w_mat * expected)\n"
     ]
    }
   ],
   "source": [
    "import itertools\n",
    "\n",
    "combs = list(itertools.combinations(model.estimators_, 2))\n",
    "n_combs = len(combs)\n",
    "naive = []\n",
    "for cl1, cl2 in combs:\n",
    "   kappa_score = cohen_kappa_score(cl1.predict(X_train), cl2.predict(X_train))\n",
    "   naive.append((kappa_score, cl1, cl2))\n"
   ]
  },
  {
   "cell_type": "code",
   "execution_count": 58,
   "metadata": {},
   "outputs": [],
   "source": [
    "naive_sorted = sorted(naive, key=lambda tup: tup[0])\n",
    "M = 500\n",
    "aux = naive_sorted[0:M]\n",
    "aux = []\n",
    "for i in range(0,M):\n",
    "    aux.append(naive_sorted[i][1])\n",
    "    aux.append(naive_sorted[i][2])\n",
    "    \n",
    "new_estimators = list(set(aux))\n",
    "    \n",
    "    \n",
    "    \n",
    "    \n",
    "    "
   ]
  },
  {
   "cell_type": "code",
   "execution_count": 59,
   "metadata": {},
   "outputs": [],
   "source": [
    "model.estimators_ = new_estimators"
   ]
  },
  {
   "cell_type": "code",
   "execution_count": 53,
   "metadata": {},
   "outputs": [],
   "source": [
    "from sklearn.metrics import f1_score"
   ]
  },
  {
   "cell_type": "code",
   "execution_count": 60,
   "metadata": {},
   "outputs": [
    {
     "data": {
      "text/plain": [
       "0.2794520547945205"
      ]
     },
     "execution_count": 60,
     "metadata": {},
     "output_type": "execute_result"
    }
   ],
   "source": [
    "f1_score(y_test, model.predict(X_test))"
   ]
  },
  {
   "cell_type": "code",
   "execution_count": 21,
   "metadata": {},
   "outputs": [],
   "source": [
    "n_combs = len(combs)"
   ]
  },
  {
   "cell_type": "code",
   "execution_count": 13,
   "metadata": {},
   "outputs": [
    {
     "data": {
      "text/plain": [
       "array([0, 0, 1, ..., 1, 0, 1])"
      ]
     },
     "execution_count": 13,
     "metadata": {},
     "output_type": "execute_result"
    }
   ],
   "source": [
    "cl1.predict(X_train)"
   ]
  }
 ],
 "metadata": {
  "kernelspec": {
   "display_name": "Python 3",
   "language": "python",
   "name": "python3"
  },
  "language_info": {
   "codemirror_mode": {
    "name": "ipython",
    "version": 3
   },
   "file_extension": ".py",
   "mimetype": "text/x-python",
   "name": "python",
   "nbconvert_exporter": "python",
   "pygments_lexer": "ipython3",
   "version": "3.6.5"
  }
 },
 "nbformat": 4,
 "nbformat_minor": 2
}
