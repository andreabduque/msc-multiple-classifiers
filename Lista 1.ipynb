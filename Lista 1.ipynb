{
 "cells": [
  {
   "cell_type": "code",
   "execution_count": 97,
   "metadata": {},
   "outputs": [],
   "source": [
    "from arff2pandas import a2p\n",
    "import pandas as pd\n",
    "import numpy as np\n"
   ]
  },
  {
   "cell_type": "code",
   "execution_count": 98,
   "metadata": {},
   "outputs": [
    {
     "name": "stdout",
     "output_type": "stream",
     "text": [
      "       loc@NUMERIC  v(g)@NUMERIC  ev(g)@NUMERIC  iv(g)@NUMERIC  n@NUMERIC  \\\n",
      "0              1.1           1.4            1.4            1.4        1.3   \n",
      "1              1.0           1.0            1.0            1.0        1.0   \n",
      "2             72.0           7.0            1.0            6.0      198.0   \n",
      "3            190.0           3.0            1.0            3.0      600.0   \n",
      "4             37.0           4.0            1.0            4.0      126.0   \n",
      "5             31.0           2.0            1.0            2.0      111.0   \n",
      "6             78.0           9.0            5.0            4.0        0.0   \n",
      "7              8.0           1.0            1.0            1.0       16.0   \n",
      "8             24.0           2.0            1.0            2.0        0.0   \n",
      "9            143.0          22.0           20.0           10.0        0.0   \n",
      "10            73.0          10.0            4.0            6.0        0.0   \n",
      "11            83.0          11.0           10.0            7.0        0.0   \n",
      "12            12.0           3.0            1.0            1.0       37.0   \n",
      "13            48.0           4.0            1.0            4.0      129.0   \n",
      "14            68.0           8.0            1.0            5.0        0.0   \n",
      "15           138.0          22.0           10.0            8.0        0.0   \n",
      "16            10.0           1.0            1.0            1.0        9.0   \n",
      "17           250.0          49.0           34.0           16.0     1469.0   \n",
      "18            77.0           8.0            1.0            1.0      284.0   \n",
      "19            85.0           9.0            1.0            7.0      277.0   \n",
      "20           110.0          17.0           13.0            8.0      322.0   \n",
      "21            49.0           6.0            6.0            3.0      171.0   \n",
      "22           187.0          35.0           26.0           16.0      526.0   \n",
      "23            27.0           6.0            6.0            3.0        0.0   \n",
      "24            38.0           8.0            1.0            3.0      145.0   \n",
      "25           294.0          43.0           33.0           24.0      814.0   \n",
      "26            29.0           3.0            1.0            3.0       88.0   \n",
      "27           160.0           5.0            4.0            3.0      698.0   \n",
      "28            94.0          16.0            9.0            5.0      218.0   \n",
      "29            48.0           3.0            1.0            3.0      157.0   \n",
      "...            ...           ...            ...            ...        ...   \n",
      "10855        126.0          22.0           22.0            1.0      256.0   \n",
      "10856        127.0          16.0           16.0            1.0      198.0   \n",
      "10857         61.0           7.0            7.0            1.0       92.0   \n",
      "10858        171.0          10.0            6.0            4.0      356.0   \n",
      "10859        715.0          71.0           14.0           10.0     3072.0   \n",
      "10860        250.0          19.0            1.0           14.0      955.0   \n",
      "10861         77.0           6.0            1.0            1.0      162.0   \n",
      "10862         79.0          19.0            8.0            1.0      314.0   \n",
      "10863         57.0           4.0            1.0            3.0      336.0   \n",
      "10864          4.0           1.0            1.0            1.0       16.0   \n",
      "10865         63.0           7.0            1.0            5.0      145.0   \n",
      "10866          9.0           1.0            1.0            1.0       16.0   \n",
      "10867          3.0           1.0            1.0            1.0        6.0   \n",
      "10868         10.0           2.0            1.0            2.0       22.0   \n",
      "10869          9.0           3.0            1.0            1.0        0.0   \n",
      "10870         27.0           4.0            1.0            3.0       99.0   \n",
      "10871         12.0           3.0            3.0            2.0       29.0   \n",
      "10872         25.0           3.0            1.0            1.0       31.0   \n",
      "10873         37.0           6.0            1.0            4.0      104.0   \n",
      "10874         24.0           3.0            1.0            1.0       31.0   \n",
      "10875         37.0           6.0            1.0            4.0      104.0   \n",
      "10876         10.0           2.0            1.0            1.0       21.0   \n",
      "10877          5.0           1.0            1.0            1.0        4.0   \n",
      "10878          4.0           1.0            1.0            1.0        5.0   \n",
      "10879         24.0           2.0            1.0            2.0       95.0   \n",
      "10880         18.0           4.0            1.0            4.0       52.0   \n",
      "10881          9.0           2.0            1.0            2.0       30.0   \n",
      "10882         42.0           4.0            1.0            2.0      103.0   \n",
      "10883         10.0           1.0            1.0            1.0       36.0   \n",
      "10884         19.0           3.0            1.0            1.0       58.0   \n",
      "\n",
      "       v@NUMERIC  l@NUMERIC  d@NUMERIC  i@NUMERIC   e@NUMERIC  \\\n",
      "0           1.30       1.30       1.30       1.30        1.30   \n",
      "1           1.00       1.00       1.00       1.00        1.00   \n",
      "2        1134.13       0.05      20.31      55.85    23029.10   \n",
      "3        4348.76       0.06      17.06     254.87    74202.67   \n",
      "4         599.12       0.06      17.19      34.86    10297.30   \n",
      "5         582.52       0.08      12.25      47.55     7135.87   \n",
      "6           0.00       0.00       0.00       0.00        0.00   \n",
      "7          50.72       0.36       2.80      18.11      142.01   \n",
      "8           0.00       0.00       0.00       0.00        0.00   \n",
      "9           0.00       0.00       0.00       0.00        0.00   \n",
      "10          0.00       0.00       0.00       0.00        0.00   \n",
      "11          0.00       0.00       0.00       0.00        0.00   \n",
      "12        167.37       0.15       6.87      24.34     1150.68   \n",
      "13        695.61       0.06      17.35      40.10    12067.30   \n",
      "14          0.00       0.00       0.00       0.00        0.00   \n",
      "15          0.00       0.00       0.00       0.00        0.00   \n",
      "16         27.00       0.50       2.00      13.50       54.00   \n",
      "17       9673.31       0.01      97.00      99.72   938311.06   \n",
      "18       1160.84       0.02      40.95      28.35    47536.38   \n",
      "19       1714.58       0.03      32.64      52.53    55961.02   \n",
      "20       2069.26       0.03      33.41      61.94    69127.22   \n",
      "21        927.89       0.04      25.33      36.63    23506.58   \n",
      "22       3296.33       0.02      42.56      77.45   140300.03   \n",
      "23          0.00       0.00       0.00       0.00        0.00   \n",
      "24        673.36       0.05      20.53      32.80    13824.90   \n",
      "25       5811.59       0.02      40.88     142.15   237606.80   \n",
      "26        465.12       0.08      12.04      38.63     5599.99   \n",
      "27       4862.12       0.03      33.11     146.86   160969.13   \n",
      "28       1236.59       0.03      34.52      35.83    42683.63   \n",
      "29        927.38       0.08      13.09      70.84    12140.27   \n",
      "...          ...        ...        ...        ...         ...   \n",
      "10855    1380.43       0.02      56.89      24.26    78539.39   \n",
      "10856     998.79       0.02      43.80      22.80    43747.00   \n",
      "10857     451.43       0.04      23.54      19.18    10626.06   \n",
      "10858    1966.39       0.02      65.45      30.04   128709.04   \n",
      "10859   19741.49       0.00     418.20      47.21  8255889.43   \n",
      "10860    6020.11       0.01      71.06      84.71   427818.05   \n",
      "10861    1002.75       0.02      44.24      22.66    44364.16   \n",
      "10862    1682.27       0.02      51.90      32.40    87317.89   \n",
      "10863    1959.85       0.04      25.62      76.51    50202.34   \n",
      "10864      59.21       0.25       4.00      14.80      236.83   \n",
      "10865     805.42       0.06      16.00      50.34    12886.65   \n",
      "10866      55.35       0.11       9.00       6.15      498.16   \n",
      "10867      15.51       0.50       2.00       7.75       31.02   \n",
      "10868      73.08       0.15       6.75      10.83      493.31   \n",
      "10869       0.00       0.00       0.00       0.00        0.00   \n",
      "10870     447.83       0.05      21.27      21.05     9526.62   \n",
      "10871     129.32       0.10       9.64      13.41     1247.05   \n",
      "10872     124.00       0.13       7.71      16.07      956.57   \n",
      "10873     524.62       0.04      23.75      22.09    12459.65   \n",
      "10874     124.00       0.13       7.71      16.07      956.57   \n",
      "10875     524.62       0.04      23.75      22.09    12459.65   \n",
      "10876      82.04       0.27       3.67      22.38      300.83   \n",
      "10877       8.00       0.67       1.50       5.33       12.00   \n",
      "10878      11.61       0.67       1.50       7.74       17.41   \n",
      "10879     470.65       0.08      12.10      38.90     5694.85   \n",
      "10880     241.48       0.14       7.33      32.93     1770.86   \n",
      "10881     129.66       0.12       8.25      15.72     1069.68   \n",
      "10882     519.57       0.04      26.40      19.68    13716.72   \n",
      "10883     147.15       0.12       8.44      17.44     1241.57   \n",
      "10884     272.63       0.09      11.57      23.56     3154.67   \n",
      "\n",
      "               ...           lOCode@NUMERIC  lOComment@NUMERIC  \\\n",
      "0              ...                      2.0                2.0   \n",
      "1              ...                      1.0                1.0   \n",
      "2              ...                     51.0               10.0   \n",
      "3              ...                    129.0               29.0   \n",
      "4              ...                     28.0                1.0   \n",
      "5              ...                     19.0                0.0   \n",
      "6              ...                      0.0                0.0   \n",
      "7              ...                      5.0                0.0   \n",
      "8              ...                      0.0                0.0   \n",
      "9              ...                      0.0                0.0   \n",
      "10             ...                      0.0                0.0   \n",
      "11             ...                      0.0                0.0   \n",
      "12             ...                      8.0                0.0   \n",
      "13             ...                     29.0                1.0   \n",
      "14             ...                      0.0                0.0   \n",
      "15             ...                      0.0                0.0   \n",
      "16             ...                      2.0                0.0   \n",
      "17             ...                    139.0               92.0   \n",
      "18             ...                     59.0                0.0   \n",
      "19             ...                     69.0                0.0   \n",
      "20             ...                     81.0               13.0   \n",
      "21             ...                     34.0                0.0   \n",
      "22             ...                    164.0                1.0   \n",
      "23             ...                      0.0                0.0   \n",
      "24             ...                     29.0                0.0   \n",
      "25             ...                    223.0               41.0   \n",
      "26             ...                     21.0                0.0   \n",
      "27             ...                    123.0               11.0   \n",
      "28             ...                     66.0               19.0   \n",
      "29             ...                     34.0                1.0   \n",
      "...            ...                      ...                ...   \n",
      "10855          ...                     85.0               27.0   \n",
      "10856          ...                     74.0               36.0   \n",
      "10857          ...                     30.0               20.0   \n",
      "10858          ...                     75.0               61.0   \n",
      "10859          ...                    499.0               60.0   \n",
      "10860          ...                    139.0               60.0   \n",
      "10861          ...                     56.0               13.0   \n",
      "10862          ...                     47.0               15.0   \n",
      "10863          ...                     40.0                5.0   \n",
      "10864          ...                      2.0                0.0   \n",
      "10865          ...                     44.0                6.0   \n",
      "10866          ...                      4.0                0.0   \n",
      "10867          ...                      1.0                0.0   \n",
      "10868          ...                      7.0                0.0   \n",
      "10869          ...                      0.0                0.0   \n",
      "10870          ...                     23.0                0.0   \n",
      "10871          ...                      7.0                0.0   \n",
      "10872          ...                     13.0                8.0   \n",
      "10873          ...                     29.0                0.0   \n",
      "10874          ...                     13.0                7.0   \n",
      "10875          ...                     29.0                0.0   \n",
      "10876          ...                      5.0                0.0   \n",
      "10877          ...                      2.0                0.0   \n",
      "10878          ...                      2.0                0.0   \n",
      "10879          ...                     18.0                0.0   \n",
      "10880          ...                     13.0                0.0   \n",
      "10881          ...                      5.0                0.0   \n",
      "10882          ...                     29.0                1.0   \n",
      "10883          ...                      6.0                0.0   \n",
      "10884          ...                     13.0                0.0   \n",
      "\n",
      "       lOBlank@NUMERIC  locCodeAndComment@NUMERIC  uniq_Op@NUMERIC  \\\n",
      "0                  2.0                        2.0              1.2   \n",
      "1                  1.0                        1.0              1.0   \n",
      "2                  8.0                        1.0             17.0   \n",
      "3                 28.0                        2.0             17.0   \n",
      "4                  6.0                        0.0             11.0   \n",
      "5                  5.0                        0.0             14.0   \n",
      "6                  0.0                        0.0              0.0   \n",
      "7                  1.0                        0.0              4.0   \n",
      "8                  0.0                        0.0              0.0   \n",
      "9                  0.0                        0.0              0.0   \n",
      "10                 0.0                        0.0              0.0   \n",
      "11                 0.0                        0.0              0.0   \n",
      "12                 2.0                        0.0             11.0   \n",
      "13                16.0                        0.0             19.0   \n",
      "14                 0.0                        0.0              0.0   \n",
      "15                 0.0                        0.0              0.0   \n",
      "16                 6.0                        0.0              4.0   \n",
      "17                17.0                        0.0             32.0   \n",
      "18                16.0                        0.0              7.0   \n",
      "19                14.0                        0.0             26.0   \n",
      "20                14.0                        0.0             27.0   \n",
      "21                13.0                        0.0             19.0   \n",
      "22                16.0                        0.0             21.0   \n",
      "23                 0.0                        0.0              0.0   \n",
      "24                 7.0                        0.0              9.0   \n",
      "25                26.0                        2.0             28.0   \n",
      "26                 6.0                        0.0             14.0   \n",
      "27                23.0                        1.0             22.0   \n",
      "28                 6.0                        1.0             22.0   \n",
      "29                 9.0                        0.0             16.0   \n",
      "...                ...                        ...              ...   \n",
      "10855             11.0                        0.0             23.0   \n",
      "10856             14.0                        0.0             18.0   \n",
      "10857              7.0                        0.0             17.0   \n",
      "10858             33.0                        0.0             24.0   \n",
      "10859            154.0                        0.0             41.0   \n",
      "10860             49.0                        0.0             25.0   \n",
      "10861              5.0                        0.0             40.0   \n",
      "10862             15.0                        0.0             20.0   \n",
      "10863              9.0                        0.0             18.0   \n",
      "10864              0.0                        0.0              8.0   \n",
      "10865             11.0                        0.0             16.0   \n",
      "10866              3.0                        0.0              9.0   \n",
      "10867              0.0                        0.0              4.0   \n",
      "10868              1.0                        0.0              6.0   \n",
      "10869              0.0                        0.0              0.0   \n",
      "10870              1.0                        1.0             12.0   \n",
      "10871              3.0                        0.0             15.0   \n",
      "10872              2.0                        0.0              9.0   \n",
      "10873              4.0                        2.0             19.0   \n",
      "10874              2.0                        0.0              9.0   \n",
      "10875              4.0                        2.0             19.0   \n",
      "10876              3.0                        0.0              6.0   \n",
      "10877              1.0                        0.0              3.0   \n",
      "10878              0.0                        0.0              3.0   \n",
      "10879              4.0                        0.0             11.0   \n",
      "10880              2.0                        0.0             10.0   \n",
      "10881              2.0                        0.0             12.0   \n",
      "10882             10.0                        0.0             18.0   \n",
      "10883              2.0                        0.0              9.0   \n",
      "10884              2.0                        1.0             12.0   \n",
      "\n",
      "       uniq_Opnd@NUMERIC  total_Op@NUMERIC  total_Opnd@NUMERIC  \\\n",
      "0                    1.2               1.2                 1.2   \n",
      "1                    1.0               1.0                 1.0   \n",
      "2                   36.0             112.0                86.0   \n",
      "3                  135.0             329.0               271.0   \n",
      "4                   16.0              76.0                50.0   \n",
      "5                   24.0              69.0                42.0   \n",
      "6                    0.0               0.0                 0.0   \n",
      "7                    5.0               9.0                 7.0   \n",
      "8                    0.0               0.0                 0.0   \n",
      "9                    0.0               0.0                 0.0   \n",
      "10                   0.0               0.0                 0.0   \n",
      "11                   0.0               0.0                 0.0   \n",
      "12                  12.0              22.0                15.0   \n",
      "13                  23.0              87.0                42.0   \n",
      "14                   0.0               0.0                 0.0   \n",
      "15                   0.0               0.0                 0.0   \n",
      "16                   4.0               5.0                 4.0   \n",
      "17                  64.0            1081.0               388.0   \n",
      "18                  10.0             167.0               117.0   \n",
      "19                  47.0             161.0               118.0   \n",
      "20                  59.0             176.0               146.0   \n",
      "21                  24.0             107.0                64.0   \n",
      "22                  56.0             299.0               227.0   \n",
      "23                   0.0               0.0                 0.0   \n",
      "24                  16.0              72.0                73.0   \n",
      "25                 113.0             484.0               330.0   \n",
      "26                  25.0              45.0                43.0   \n",
      "27                 103.0             388.0               310.0   \n",
      "28                  29.0             127.0                91.0   \n",
      "29                  44.0              85.0                72.0   \n",
      "...                  ...               ...                 ...   \n",
      "10855               19.0             162.0                94.0   \n",
      "10856               15.0             125.0                73.0   \n",
      "10857               13.0              56.0                36.0   \n",
      "10858               22.0             236.0               120.0   \n",
      "10859               45.0            2154.0               918.0   \n",
      "10860               54.0             648.0               307.0   \n",
      "10861               33.0              89.0                73.0   \n",
      "10862               21.0             205.0               109.0   \n",
      "10863               39.0             225.0               111.0   \n",
      "10864                5.0              11.0                 5.0   \n",
      "10865               31.0              83.0                62.0   \n",
      "10866                2.0              12.0                 4.0   \n",
      "10867                2.0               4.0                 2.0   \n",
      "10868                4.0              13.0                 9.0   \n",
      "10869                0.0               0.0                 0.0   \n",
      "10870               11.0              60.0                39.0   \n",
      "10871                7.0              20.0                 9.0   \n",
      "10872                7.0              19.0                12.0   \n",
      "10873               14.0              69.0                35.0   \n",
      "10874                7.0              19.0                12.0   \n",
      "10875               14.0              69.0                35.0   \n",
      "10876                9.0              10.0                11.0   \n",
      "10877                1.0               3.0                 1.0   \n",
      "10878                2.0               3.0                 2.0   \n",
      "10879               20.0              51.0                44.0   \n",
      "10880               15.0              30.0                22.0   \n",
      "10881                8.0              19.0                11.0   \n",
      "10882               15.0              59.0                44.0   \n",
      "10883                8.0              21.0                15.0   \n",
      "10884               14.0              31.0                27.0   \n",
      "\n",
      "       branchCount@NUMERIC  defects@{false,true}  \n",
      "0                      1.4                 false  \n",
      "1                      1.0                  true  \n",
      "2                     13.0                  true  \n",
      "3                      5.0                  true  \n",
      "4                      7.0                  true  \n",
      "5                      3.0                  true  \n",
      "6                     17.0                  true  \n",
      "7                      1.0                  true  \n",
      "8                      3.0                  true  \n",
      "9                     43.0                  true  \n",
      "10                    19.0                  true  \n",
      "11                    21.0                  true  \n",
      "12                     5.0                  true  \n",
      "13                     7.0                  true  \n",
      "14                    15.0                  true  \n",
      "15                    43.0                  true  \n",
      "16                     1.0                  true  \n",
      "17                    97.0                  true  \n",
      "18                    15.0                  true  \n",
      "19                    13.0                  true  \n",
      "20                    33.0                  true  \n",
      "21                    11.0                  true  \n",
      "22                    69.0                  true  \n",
      "23                    11.0                  true  \n",
      "24                    15.0                  true  \n",
      "25                    85.0                  true  \n",
      "26                     5.0                  true  \n",
      "27                     9.0                  true  \n",
      "28                    31.0                  true  \n",
      "29                     5.0                  true  \n",
      "...                    ...                   ...  \n",
      "10855                 37.0                 false  \n",
      "10856                 29.0                 false  \n",
      "10857                 13.0                 false  \n",
      "10858                 19.0                 false  \n",
      "10859                133.0                 false  \n",
      "10860                 37.0                 false  \n",
      "10861                  8.0                 false  \n",
      "10862                 37.0                 false  \n",
      "10863                  7.0                 false  \n",
      "10864                  1.0                 false  \n",
      "10865                 13.0                 false  \n",
      "10866                  1.0                 false  \n",
      "10867                  1.0                 false  \n",
      "10868                  3.0                 false  \n",
      "10869                  5.0                 false  \n",
      "10870                  7.0                 false  \n",
      "10871                  5.0                 false  \n",
      "10872                  5.0                 false  \n",
      "10873                 11.0                 false  \n",
      "10874                  5.0                 false  \n",
      "10875                 11.0                 false  \n",
      "10876                  3.0                 false  \n",
      "10877                  1.0                 false  \n",
      "10878                  1.0                 false  \n",
      "10879                  3.0                 false  \n",
      "10880                  7.0                 false  \n",
      "10881                  3.0                 false  \n",
      "10882                  7.0                 false  \n",
      "10883                  1.0                 false  \n",
      "10884                  5.0                 false  \n",
      "\n",
      "[10885 rows x 22 columns]\n"
     ]
    }
   ],
   "source": [
    "with open('jm1.arff') as f:\n",
    "    df = a2p.load(f)\n",
    "    print(df)"
   ]
  },
  {
   "cell_type": "markdown",
   "metadata": {},
   "source": [
    "Base com missing values, preencher com a media"
   ]
  },
  {
   "cell_type": "code",
   "execution_count": 99,
   "metadata": {},
   "outputs": [],
   "source": [
    "df = df.interpolate()"
   ]
  },
  {
   "cell_type": "code",
   "execution_count": 100,
   "metadata": {},
   "outputs": [],
   "source": [
    "input_features = df.drop([\"defects@{false,true}\"], axis=1)"
   ]
  },
  {
   "cell_type": "markdown",
   "metadata": {},
   "source": [
    "Base desbalanceada -> lembrar de pegar k-fold estratificado"
   ]
  },
  {
   "cell_type": "code",
   "execution_count": 53,
   "metadata": {},
   "outputs": [
    {
     "data": {
      "text/plain": [
       "8779"
      ]
     },
     "execution_count": 53,
     "metadata": {},
     "output_type": "execute_result"
    }
   ],
   "source": [
    "output_class = df[\"defects@{false,true}\"]\n",
    "len(output_class[output_class == \"true\"])"
   ]
  },
  {
   "cell_type": "code",
   "execution_count": 101,
   "metadata": {},
   "outputs": [],
   "source": [
    "from sklearn.tree import DecisionTreeClassifier\n",
    "from sklearn.ensemble import BaggingClassifier\n",
    "from sklearn.model_selection import cross_val_score"
   ]
  },
  {
   "cell_type": "code",
   "execution_count": 55,
   "metadata": {},
   "outputs": [],
   "source": [
    "#Bagging\n",
    "es = BaggingClassifier(base_estimator=DecisionTreeClassifier(), n_estimators=100, \n",
    "                       max_samples=0.80, max_features=1.0, bootstrap=True, \n",
    "                       bootstrap_features=False, n_jobs=3)"
   ]
  },
  {
   "cell_type": "code",
   "execution_count": 58,
   "metadata": {},
   "outputs": [
    {
     "data": {
      "text/plain": [
       "0.7941275756845274"
      ]
     },
     "execution_count": 58,
     "metadata": {},
     "output_type": "execute_result"
    }
   ],
   "source": [
    "np.mean(cross_val_score(es, input_features,output_class, cv=10 ,scoring='accuracy'))"
   ]
  },
  {
   "cell_type": "code",
   "execution_count": 102,
   "metadata": {},
   "outputs": [],
   "source": [
    "from sklearn.model_selection import train_test_split\n",
    "\n",
    "X_train, X_test, y_train, y_test = train_test_split(input_features, output_class,test_size=0.2, random_state=42)"
   ]
  },
  {
   "cell_type": "code",
   "execution_count": 88,
   "metadata": {},
   "outputs": [],
   "source": [
    "from sklearn.metrics import accuracy_score\n",
    "from sklearn.linear_model import Perceptron"
   ]
  },
  {
   "cell_type": "code",
   "execution_count": 87,
   "metadata": {},
   "outputs": [],
   "source": [
    "clf = DecisionTreeClassifier()\n",
    "clf.fit(X_train, y_train)\n",
    "pred = clf.predict(X_test)\n",
    "probs = clf.predict_proba(X_test)"
   ]
  },
  {
   "cell_type": "code",
   "execution_count": 90,
   "metadata": {},
   "outputs": [
    {
     "name": "stderr",
     "output_type": "stream",
     "text": [
      "/home/andrea/Workspace/mlproject/lib/python3.6/site-packages/sklearn/linear_model/stochastic_gradient.py:128: FutureWarning: max_iter and tol parameters have been added in <class 'sklearn.linear_model.perceptron.Perceptron'> in 0.19. If both are left unset, they default to max_iter=5 and tol=None. If tol is not None, max_iter defaults to max_iter=1000. From 0.21, default max_iter will be 1000, and default tol will be 1e-3.\n",
      "  \"and default tol will be 1e-3.\" % type(self), FutureWarning)\n"
     ]
    }
   ],
   "source": [
    "clf = Perceptron()\n",
    "clf.fit(X_train, y_train)\n",
    "pred = clf.predict(X_test)\n",
    "#probs = clf.predict_proba(X_test)"
   ]
  },
  {
   "cell_type": "code",
   "execution_count": 92,
   "metadata": {},
   "outputs": [
    {
     "data": {
      "text/plain": [
       "0.8075333027101516"
      ]
     },
     "execution_count": 92,
     "metadata": {},
     "output_type": "execute_result"
    }
   ],
   "source": [
    "accuracy_score(y_test, pred)"
   ]
  },
  {
   "cell_type": "code",
   "execution_count": 103,
   "metadata": {},
   "outputs": [],
   "source": [
    "from sklearn.ensemble import VotingClassifier"
   ]
  },
  {
   "cell_type": "code",
   "execution_count": 113,
   "metadata": {},
   "outputs": [],
   "source": [
    "es2 = VotingClassifier([('dt', DecisionTreeClassifier()), ('p', Perceptron())], voting='soft')"
   ]
  },
  {
   "cell_type": "code",
   "execution_count": 114,
   "metadata": {},
   "outputs": [
    {
     "name": "stderr",
     "output_type": "stream",
     "text": [
      "/home/andrea/Workspace/mlproject/lib/python3.6/site-packages/sklearn/linear_model/stochastic_gradient.py:128: FutureWarning: max_iter and tol parameters have been added in <class 'sklearn.linear_model.perceptron.Perceptron'> in 0.19. If both are left unset, they default to max_iter=5 and tol=None. If tol is not None, max_iter defaults to max_iter=1000. From 0.21, default max_iter will be 1000, and default tol will be 1e-3.\n",
      "  \"and default tol will be 1e-3.\" % type(self), FutureWarning)\n"
     ]
    },
    {
     "data": {
      "text/plain": [
       "VotingClassifier(estimators=[('dt', DecisionTreeClassifier(class_weight=None, criterion='gini', max_depth=None,\n",
       "            max_features=None, max_leaf_nodes=None,\n",
       "            min_impurity_decrease=0.0, min_impurity_split=None,\n",
       "            min_samples_leaf=1, min_samples_split=2,\n",
       "            min_weight_fraction_leaf...n_jobs=1, penalty=None, random_state=0,\n",
       "      shuffle=True, tol=None, verbose=0, warm_start=False))],\n",
       "         flatten_transform=None, n_jobs=1, voting='soft', weights=None)"
      ]
     },
     "execution_count": 114,
     "metadata": {},
     "output_type": "execute_result"
    }
   ],
   "source": [
    "es2.fit(X_train, y_train)"
   ]
  },
  {
   "cell_type": "code",
   "execution_count": 116,
   "metadata": {},
   "outputs": [
    {
     "ename": "AttributeError",
     "evalue": "'Perceptron' object has no attribute 'predict_proba'",
     "output_type": "error",
     "traceback": [
      "\u001b[0;31m---------------------------------------------------------------------------\u001b[0m",
      "\u001b[0;31mAttributeError\u001b[0m                            Traceback (most recent call last)",
      "\u001b[0;32m<ipython-input-116-16df26bb2197>\u001b[0m in \u001b[0;36m<module>\u001b[0;34m()\u001b[0m\n\u001b[0;32m----> 1\u001b[0;31m \u001b[0mpred\u001b[0m \u001b[0;34m=\u001b[0m \u001b[0mes2\u001b[0m\u001b[0;34m.\u001b[0m\u001b[0mpredict\u001b[0m\u001b[0;34m(\u001b[0m\u001b[0mX_test\u001b[0m\u001b[0;34m)\u001b[0m\u001b[0;34m\u001b[0m\u001b[0m\n\u001b[0m",
      "\u001b[0;32m~/Workspace/mlproject/lib/python3.6/site-packages/sklearn/ensemble/voting_classifier.py\u001b[0m in \u001b[0;36mpredict\u001b[0;34m(self, X)\u001b[0m\n\u001b[1;32m    216\u001b[0m         \u001b[0mcheck_is_fitted\u001b[0m\u001b[0;34m(\u001b[0m\u001b[0mself\u001b[0m\u001b[0;34m,\u001b[0m \u001b[0;34m'estimators_'\u001b[0m\u001b[0;34m)\u001b[0m\u001b[0;34m\u001b[0m\u001b[0m\n\u001b[1;32m    217\u001b[0m         \u001b[0;32mif\u001b[0m \u001b[0mself\u001b[0m\u001b[0;34m.\u001b[0m\u001b[0mvoting\u001b[0m \u001b[0;34m==\u001b[0m \u001b[0;34m'soft'\u001b[0m\u001b[0;34m:\u001b[0m\u001b[0;34m\u001b[0m\u001b[0m\n\u001b[0;32m--> 218\u001b[0;31m             \u001b[0mmaj\u001b[0m \u001b[0;34m=\u001b[0m \u001b[0mnp\u001b[0m\u001b[0;34m.\u001b[0m\u001b[0margmax\u001b[0m\u001b[0;34m(\u001b[0m\u001b[0mself\u001b[0m\u001b[0;34m.\u001b[0m\u001b[0mpredict_proba\u001b[0m\u001b[0;34m(\u001b[0m\u001b[0mX\u001b[0m\u001b[0;34m)\u001b[0m\u001b[0;34m,\u001b[0m \u001b[0maxis\u001b[0m\u001b[0;34m=\u001b[0m\u001b[0;36m1\u001b[0m\u001b[0;34m)\u001b[0m\u001b[0;34m\u001b[0m\u001b[0m\n\u001b[0m\u001b[1;32m    219\u001b[0m \u001b[0;34m\u001b[0m\u001b[0m\n\u001b[1;32m    220\u001b[0m         \u001b[0;32melse\u001b[0m\u001b[0;34m:\u001b[0m  \u001b[0;31m# 'hard' voting\u001b[0m\u001b[0;34m\u001b[0m\u001b[0m\n",
      "\u001b[0;32m~/Workspace/mlproject/lib/python3.6/site-packages/sklearn/ensemble/voting_classifier.py\u001b[0m in \u001b[0;36m_predict_proba\u001b[0;34m(self, X)\u001b[0m\n\u001b[1;32m    239\u001b[0m                                  \" voting=%r\" % self.voting)\n\u001b[1;32m    240\u001b[0m         \u001b[0mcheck_is_fitted\u001b[0m\u001b[0;34m(\u001b[0m\u001b[0mself\u001b[0m\u001b[0;34m,\u001b[0m \u001b[0;34m'estimators_'\u001b[0m\u001b[0;34m)\u001b[0m\u001b[0;34m\u001b[0m\u001b[0m\n\u001b[0;32m--> 241\u001b[0;31m         avg = np.average(self._collect_probas(X), axis=0,\n\u001b[0m\u001b[1;32m    242\u001b[0m                          weights=self._weights_not_none)\n\u001b[1;32m    243\u001b[0m         \u001b[0;32mreturn\u001b[0m \u001b[0mavg\u001b[0m\u001b[0;34m\u001b[0m\u001b[0m\n",
      "\u001b[0;32m~/Workspace/mlproject/lib/python3.6/site-packages/sklearn/ensemble/voting_classifier.py\u001b[0m in \u001b[0;36m_collect_probas\u001b[0;34m(self, X)\u001b[0m\n\u001b[1;32m    231\u001b[0m     \u001b[0;32mdef\u001b[0m \u001b[0m_collect_probas\u001b[0m\u001b[0;34m(\u001b[0m\u001b[0mself\u001b[0m\u001b[0;34m,\u001b[0m \u001b[0mX\u001b[0m\u001b[0;34m)\u001b[0m\u001b[0;34m:\u001b[0m\u001b[0;34m\u001b[0m\u001b[0m\n\u001b[1;32m    232\u001b[0m         \u001b[0;34m\"\"\"Collect results from clf.predict calls. \"\"\"\u001b[0m\u001b[0;34m\u001b[0m\u001b[0m\n\u001b[0;32m--> 233\u001b[0;31m         \u001b[0;32mreturn\u001b[0m \u001b[0mnp\u001b[0m\u001b[0;34m.\u001b[0m\u001b[0masarray\u001b[0m\u001b[0;34m(\u001b[0m\u001b[0;34m[\u001b[0m\u001b[0mclf\u001b[0m\u001b[0;34m.\u001b[0m\u001b[0mpredict_proba\u001b[0m\u001b[0;34m(\u001b[0m\u001b[0mX\u001b[0m\u001b[0;34m)\u001b[0m \u001b[0;32mfor\u001b[0m \u001b[0mclf\u001b[0m \u001b[0;32min\u001b[0m \u001b[0mself\u001b[0m\u001b[0;34m.\u001b[0m\u001b[0mestimators_\u001b[0m\u001b[0;34m]\u001b[0m\u001b[0;34m)\u001b[0m\u001b[0;34m\u001b[0m\u001b[0m\n\u001b[0m\u001b[1;32m    234\u001b[0m \u001b[0;34m\u001b[0m\u001b[0m\n\u001b[1;32m    235\u001b[0m     \u001b[0;32mdef\u001b[0m \u001b[0m_predict_proba\u001b[0m\u001b[0;34m(\u001b[0m\u001b[0mself\u001b[0m\u001b[0;34m,\u001b[0m \u001b[0mX\u001b[0m\u001b[0;34m)\u001b[0m\u001b[0;34m:\u001b[0m\u001b[0;34m\u001b[0m\u001b[0m\n",
      "\u001b[0;32m~/Workspace/mlproject/lib/python3.6/site-packages/sklearn/ensemble/voting_classifier.py\u001b[0m in \u001b[0;36m<listcomp>\u001b[0;34m(.0)\u001b[0m\n\u001b[1;32m    231\u001b[0m     \u001b[0;32mdef\u001b[0m \u001b[0m_collect_probas\u001b[0m\u001b[0;34m(\u001b[0m\u001b[0mself\u001b[0m\u001b[0;34m,\u001b[0m \u001b[0mX\u001b[0m\u001b[0;34m)\u001b[0m\u001b[0;34m:\u001b[0m\u001b[0;34m\u001b[0m\u001b[0m\n\u001b[1;32m    232\u001b[0m         \u001b[0;34m\"\"\"Collect results from clf.predict calls. \"\"\"\u001b[0m\u001b[0;34m\u001b[0m\u001b[0m\n\u001b[0;32m--> 233\u001b[0;31m         \u001b[0;32mreturn\u001b[0m \u001b[0mnp\u001b[0m\u001b[0;34m.\u001b[0m\u001b[0masarray\u001b[0m\u001b[0;34m(\u001b[0m\u001b[0;34m[\u001b[0m\u001b[0mclf\u001b[0m\u001b[0;34m.\u001b[0m\u001b[0mpredict_proba\u001b[0m\u001b[0;34m(\u001b[0m\u001b[0mX\u001b[0m\u001b[0;34m)\u001b[0m \u001b[0;32mfor\u001b[0m \u001b[0mclf\u001b[0m \u001b[0;32min\u001b[0m \u001b[0mself\u001b[0m\u001b[0;34m.\u001b[0m\u001b[0mestimators_\u001b[0m\u001b[0;34m]\u001b[0m\u001b[0;34m)\u001b[0m\u001b[0;34m\u001b[0m\u001b[0m\n\u001b[0m\u001b[1;32m    234\u001b[0m \u001b[0;34m\u001b[0m\u001b[0m\n\u001b[1;32m    235\u001b[0m     \u001b[0;32mdef\u001b[0m \u001b[0m_predict_proba\u001b[0m\u001b[0;34m(\u001b[0m\u001b[0mself\u001b[0m\u001b[0;34m,\u001b[0m \u001b[0mX\u001b[0m\u001b[0;34m)\u001b[0m\u001b[0;34m:\u001b[0m\u001b[0;34m\u001b[0m\u001b[0m\n",
      "\u001b[0;31mAttributeError\u001b[0m: 'Perceptron' object has no attribute 'predict_proba'"
     ]
    }
   ],
   "source": [
    "pred = es2.predict(X_test)"
   ]
  },
  {
   "cell_type": "code",
   "execution_count": 112,
   "metadata": {},
   "outputs": [
    {
     "data": {
      "text/plain": [
       "0.8075333027101516"
      ]
     },
     "execution_count": 112,
     "metadata": {},
     "output_type": "execute_result"
    }
   ],
   "source": [
    "accuracy_score(y_test, pred)"
   ]
  },
  {
   "cell_type": "code",
   "execution_count": null,
   "metadata": {},
   "outputs": [],
   "source": []
  }
 ],
 "metadata": {
  "kernelspec": {
   "display_name": "Python 3",
   "language": "python",
   "name": "python3"
  },
  "language_info": {
   "codemirror_mode": {
    "name": "ipython",
    "version": 3
   },
   "file_extension": ".py",
   "mimetype": "text/x-python",
   "name": "python",
   "nbconvert_exporter": "python",
   "pygments_lexer": "ipython3",
   "version": "3.6.5"
  }
 },
 "nbformat": 4,
 "nbformat_minor": 2
}
